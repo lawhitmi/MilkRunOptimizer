{
 "cells": [
  {
   "cell_type": "code",
   "execution_count": 1,
   "metadata": {},
   "outputs": [],
   "source": [
    "import pandas as pd"
   ]
  },
  {
   "cell_type": "code",
   "execution_count": 2,
   "metadata": {},
   "outputs": [],
   "source": [
    "# LTL Tariff - no distance\n",
    "def get_tariff(weight):\n",
    "    tariff_levels = pd.Series({1.79:0,\n",
    "                    1.70:201,\n",
    "                    1.62:501,\n",
    "                    1.53:1001,\n",
    "                    1.46:1501,\n",
    "                    1.38:2001,\n",
    "                    1.32:3001,\n",
    "                    1.25:4001,\n",
    "                    1.19:5001,\n",
    "                    1.13:7501,\n",
    "                    1.07:10001})\n",
    "    cost=tariff_levels[tariff_levels<=weight].index[-1]\n",
    "    \n",
    "    tariff = cost*weight\n",
    "    \n",
    "    if tariff>=250:\n",
    "        return tariff\n",
    "    else: \n",
    "        return 250\n",
    "    "
   ]
  },
  {
   "cell_type": "code",
   "execution_count": 3,
   "metadata": {},
   "outputs": [
    {
     "data": {
      "text/plain": [
       "250"
      ]
     },
     "execution_count": 3,
     "metadata": {},
     "output_type": "execute_result"
    }
   ],
   "source": [
    "get_tariff(30)"
   ]
  },
  {
   "cell_type": "code",
   "execution_count": 4,
   "metadata": {},
   "outputs": [],
   "source": [
    "# LTL Tariff - with distance\n",
    "def get_tariff_dist(weight,dist):\n",
    "    tariff_levels = pd.read_csv(\"./Data/LTLTariff.csv\",index_col=0)\n",
    "    tariff_levels.columns = tariff_levels.columns.astype(float)\n",
    "    \n",
    "    x=tariff_levels.columns[tariff_levels.columns <= dist][-1]\n",
    "    y=tariff_levels.index[tariff_levels.index <= weight][-1]\n",
    "    \n",
    "    cost = tariff_levels.loc[y,x]   \n",
    "    \n",
    "    tariff = cost*weight\n",
    "    \n",
    "    return tariff"
   ]
  },
  {
   "cell_type": "code",
   "execution_count": 5,
   "metadata": {},
   "outputs": [
    {
     "data": {
      "text/plain": [
       "188152.0"
      ]
     },
     "execution_count": 5,
     "metadata": {},
     "output_type": "execute_result"
    }
   ],
   "source": [
    "get_tariff_dist(800,550)"
   ]
  },
  {
   "cell_type": "code",
   "execution_count": 6,
   "metadata": {},
   "outputs": [],
   "source": [
    "# FTL Tariff\n",
    "def get_tariff_ftl(dist):\n",
    "    transport_cost = 50\n",
    "    transport_time = 0 #will need to be updated if this comes into play\n",
    "    distance_rate = 1.4 # Euro/km\n",
    "    return transport_cost+(dist*distance_rate)"
   ]
  },
  {
   "cell_type": "code",
   "execution_count": 7,
   "metadata": {},
   "outputs": [
    {
     "data": {
      "text/plain": [
       "400.0"
      ]
     },
     "execution_count": 7,
     "metadata": {},
     "output_type": "execute_result"
    }
   ],
   "source": [
    "get_tariff_ftl(250)"
   ]
  },
  {
   "cell_type": "code",
   "execution_count": 8,
   "metadata": {},
   "outputs": [],
   "source": [
    "# Milk Run Tariff\n",
    "def get_tariff_milk(dist, num_stops):\n",
    "    transport_cost = 100\n",
    "    transport_time = 0 #will need to be updated if this comes into play\n",
    "    distance_rate = 0.6\n",
    "    stop_cost = 40\n",
    "    return transport_cost + distance_rate*dist + num_stops*stop_cost"
   ]
  },
  {
   "cell_type": "code",
   "execution_count": 9,
   "metadata": {},
   "outputs": [
    {
     "data": {
      "text/plain": [
       "330.0"
      ]
     },
     "execution_count": 9,
     "metadata": {},
     "output_type": "execute_result"
    }
   ],
   "source": [
    "get_tariff_milk(250, 2)"
   ]
  },
  {
   "cell_type": "code",
   "execution_count": 10,
   "metadata": {},
   "outputs": [],
   "source": [
    "# Means of Transportation Class\n",
    "class MoT():\n",
    "    def __init__(self,name,avg_speed,payload,length,width,height):\n",
    "        self.name = name\n",
    "        self.avg_speed = avg_speed\n",
    "        self.max_payload = payload\n",
    "        self.max_length = length\n",
    "        self.max_width = width\n",
    "        self.max_height = height\n",
    "        self.rem_length = length\n",
    "        self.rem_width = width\n",
    "        self.rem_height = height\n",
    "    \n",
    "    def load_truck(self,parcel):\n",
    "        pass\n",
    "    \n",
    "    def unload_truck(self,parcel):\n",
    "        pass\n",
    "    \n",
    "    def empty_truck(self,parcel):\n",
    "        pass\n",
    "    \n",
    "    def _check_fits(self,parcel):\n",
    "        pass"
   ]
  },
  {
   "cell_type": "code",
   "execution_count": 11,
   "metadata": {},
   "outputs": [],
   "source": [
    "a = MoT('Standard 25to',50,25,13600,2500,2480)\n",
    "b = MoT('MEGA',70,25,13620,2480,3000)\n",
    "c = MoT('PICKUP 3.5t',60,3.5,6400,2500,2500)"
   ]
  },
  {
   "cell_type": "code",
   "execution_count": 12,
   "metadata": {},
   "outputs": [],
   "source": [
    "# Transport Order Class\n",
    "class Order():\n",
    "    def __init__(self,order_num,origin,destination,weight,length,volume):\n",
    "        self.order_num = order_num\n",
    "        self.origin = origin\n",
    "        self.destination = destination\n",
    "        self.weight = weight\n",
    "        self.length = length\n",
    "        self.volume = volume\n",
    "    \n",
    "    def assign_to_run(self):\n",
    "        pass\n",
    "    \n",
    "    "
   ]
  },
  {
   "cell_type": "code",
   "execution_count": null,
   "metadata": {},
   "outputs": [],
   "source": []
  }
 ],
 "metadata": {
  "kernelspec": {
   "display_name": "LION",
   "language": "python",
   "name": "lion"
  },
  "language_info": {
   "codemirror_mode": {
    "name": "ipython",
    "version": 3
   },
   "file_extension": ".py",
   "mimetype": "text/x-python",
   "name": "python",
   "nbconvert_exporter": "python",
   "pygments_lexer": "ipython3",
   "version": "3.7.4"
  }
 },
 "nbformat": 4,
 "nbformat_minor": 4
}
