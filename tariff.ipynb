{
 "cells": [
  {
   "cell_type": "code",
   "execution_count": 1,
   "metadata": {},
   "outputs": [],
   "source": [
    "import pandas as pd\n",
    "from pyomo.environ import *\n",
    "from pyomo.opt import SolverFactory"
   ]
  },
  {
   "cell_type": "code",
   "execution_count": 2,
   "metadata": {},
   "outputs": [],
   "source": [
    "# LTL Tariff - no distance\n",
    "def get_tariff(weight):\n",
    "    tariff_levels = pd.Series({1.79:0,\n",
    "                    1.70:201,\n",
    "                    1.62:501,\n",
    "                    1.53:1001,\n",
    "                    1.46:1501,\n",
    "                    1.38:2001,\n",
    "                    1.32:3001,\n",
    "                    1.25:4001,\n",
    "                    1.19:5001,\n",
    "                    1.13:7501,\n",
    "                    1.07:10001})\n",
    "    cost=tariff_levels[tariff_levels<=weight].index[-1]\n",
    "    \n",
    "    tariff = cost*weight\n",
    "    \n",
    "    if tariff>=250:\n",
    "        return tariff\n",
    "    else: \n",
    "        return 250\n",
    "    "
   ]
  },
  {
   "cell_type": "code",
   "execution_count": 3,
   "metadata": {},
   "outputs": [
    {
     "data": {
      "text/plain": [
       "1296.0"
      ]
     },
     "execution_count": 3,
     "metadata": {},
     "output_type": "execute_result"
    }
   ],
   "source": [
    "get_tariff(800)"
   ]
  },
  {
   "cell_type": "code",
   "execution_count": 4,
   "metadata": {},
   "outputs": [],
   "source": [
    "# LTL Tariff - with distance\n",
    "def get_tariff_dist(weight,dist):\n",
    "    tariff_levels = pd.read_csv(\"./Data/LTLTariff.csv\",index_col=0)\n",
    "    tariff_levels.columns = tariff_levels.columns.astype(float)\n",
    "    \n",
    "    x=tariff_levels.columns[tariff_levels.columns <= dist][-1]\n",
    "    y=tariff_levels.index[tariff_levels.index <= weight][-1]\n",
    "    \n",
    "    tariff = tariff_levels.loc[y,x]   \n",
    "    \n",
    "    \n",
    "    return tariff"
   ]
  },
  {
   "cell_type": "code",
   "execution_count": 5,
   "metadata": {},
   "outputs": [
    {
     "data": {
      "text/plain": [
       "57.56"
      ]
     },
     "execution_count": 5,
     "metadata": {},
     "output_type": "execute_result"
    }
   ],
   "source": [
    "get_tariff_dist(800,50)"
   ]
  },
  {
   "cell_type": "code",
   "execution_count": 6,
   "metadata": {},
   "outputs": [],
   "source": [
    "# FTL Tariff\n",
    "def get_tariff_ftl(dist):\n",
    "    transport_cost = 50\n",
    "    transport_time = 0 #will need to be updated if this comes into play\n",
    "    distance_rate = 1.4 # Euro/km\n",
    "    return transport_cost+(dist*distance_rate)"
   ]
  },
  {
   "cell_type": "code",
   "execution_count": 7,
   "metadata": {},
   "outputs": [
    {
     "data": {
      "text/plain": [
       "400.0"
      ]
     },
     "execution_count": 7,
     "metadata": {},
     "output_type": "execute_result"
    }
   ],
   "source": [
    "get_tariff_ftl(250)"
   ]
  },
  {
   "cell_type": "code",
   "execution_count": 8,
   "metadata": {},
   "outputs": [],
   "source": [
    "# Milk Run Tariff\n",
    "def get_tariff_milk(dist, num_stops):\n",
    "    transport_cost = 100\n",
    "    transport_time = 0 #will need to be updated if this comes into play\n",
    "    distance_rate = 0.6\n",
    "    stop_cost = 40\n",
    "    return transport_cost + distance_rate*dist + num_stops*stop_cost"
   ]
  },
  {
   "cell_type": "code",
   "execution_count": 9,
   "metadata": {},
   "outputs": [
    {
     "data": {
      "text/plain": [
       "330.0"
      ]
     },
     "execution_count": 9,
     "metadata": {},
     "output_type": "execute_result"
    }
   ],
   "source": [
    "get_tariff_milk(250, 2)"
   ]
  },
  {
   "cell_type": "code",
   "execution_count": 10,
   "metadata": {},
   "outputs": [
    {
     "ename": "SyntaxError",
     "evalue": "invalid syntax (<ipython-input-10-b6fabc03f5db>, line 18)",
     "output_type": "error",
     "traceback": [
      "\u001b[1;36m  File \u001b[1;32m\"<ipython-input-10-b6fabc03f5db>\"\u001b[1;36m, line \u001b[1;32m18\u001b[0m\n\u001b[1;33m    if self._check_fits()\u001b[0m\n\u001b[1;37m                         ^\u001b[0m\n\u001b[1;31mSyntaxError\u001b[0m\u001b[1;31m:\u001b[0m invalid syntax\n"
     ]
    }
   ],
   "source": [
    "# Means of Transportation Class\n",
    "class MoT():\n",
    "    def __init__(self,name,avg_speed,payload,length,width,height):\n",
    "        self.name = name\n",
    "        self.avg_speed = avg_speed\n",
    "        self.max_payload = payload\n",
    "        self.max_length = length\n",
    "        self.max_width = width\n",
    "        self.max_height = height\n",
    "        self.rem_length = length\n",
    "        self.rem_width = width\n",
    "        self.rem_height = height\n",
    "        self.rem_payload = payload\n",
    "        self.max_vol = length*width*height\n",
    "        self.TOs_loaded = []\n",
    "    \n",
    "    def load_truck(self,TO):\n",
    "        if self._check_fits()\n",
    "    \n",
    "    def unload_truck(self,TO):\n",
    "        pass\n",
    "    \n",
    "    def empty_truck(self,TO):\n",
    "        pass\n",
    "    \n",
    "    def _check_fits(self,TO):\n",
    "        fits = True\n",
    "        if self.rem_width < TO."
   ]
  },
  {
   "cell_type": "code",
   "execution_count": 11,
   "metadata": {},
   "outputs": [
    {
     "ename": "NameError",
     "evalue": "name 'MoT' is not defined",
     "output_type": "error",
     "traceback": [
      "\u001b[1;31m---------------------------------------------------------------------------\u001b[0m",
      "\u001b[1;31mNameError\u001b[0m                                 Traceback (most recent call last)",
      "\u001b[1;32m<ipython-input-11-912afc12d8c5>\u001b[0m in \u001b[0;36m<module>\u001b[1;34m\u001b[0m\n\u001b[1;32m----> 1\u001b[1;33m \u001b[0ma\u001b[0m \u001b[1;33m=\u001b[0m \u001b[0mMoT\u001b[0m\u001b[1;33m(\u001b[0m\u001b[1;34m'Standard 25to'\u001b[0m\u001b[1;33m,\u001b[0m\u001b[1;36m50\u001b[0m\u001b[1;33m,\u001b[0m\u001b[1;36m25\u001b[0m\u001b[1;33m,\u001b[0m\u001b[1;36m13600\u001b[0m\u001b[1;33m,\u001b[0m\u001b[1;36m2500\u001b[0m\u001b[1;33m,\u001b[0m\u001b[1;36m2480\u001b[0m\u001b[1;33m)\u001b[0m\u001b[1;33m\u001b[0m\u001b[1;33m\u001b[0m\u001b[0m\n\u001b[0m\u001b[0;32m      2\u001b[0m \u001b[0mb\u001b[0m \u001b[1;33m=\u001b[0m \u001b[0mMoT\u001b[0m\u001b[1;33m(\u001b[0m\u001b[1;34m'MEGA'\u001b[0m\u001b[1;33m,\u001b[0m\u001b[1;36m70\u001b[0m\u001b[1;33m,\u001b[0m\u001b[1;36m25\u001b[0m\u001b[1;33m,\u001b[0m\u001b[1;36m13620\u001b[0m\u001b[1;33m,\u001b[0m\u001b[1;36m2480\u001b[0m\u001b[1;33m,\u001b[0m\u001b[1;36m3000\u001b[0m\u001b[1;33m)\u001b[0m\u001b[1;33m\u001b[0m\u001b[1;33m\u001b[0m\u001b[0m\n\u001b[0;32m      3\u001b[0m \u001b[0mc\u001b[0m \u001b[1;33m=\u001b[0m \u001b[0mMoT\u001b[0m\u001b[1;33m(\u001b[0m\u001b[1;34m'PICKUP 3.5t'\u001b[0m\u001b[1;33m,\u001b[0m\u001b[1;36m60\u001b[0m\u001b[1;33m,\u001b[0m\u001b[1;36m3.5\u001b[0m\u001b[1;33m,\u001b[0m\u001b[1;36m6400\u001b[0m\u001b[1;33m,\u001b[0m\u001b[1;36m2500\u001b[0m\u001b[1;33m,\u001b[0m\u001b[1;36m2500\u001b[0m\u001b[1;33m)\u001b[0m\u001b[1;33m\u001b[0m\u001b[1;33m\u001b[0m\u001b[0m\n",
      "\u001b[1;31mNameError\u001b[0m: name 'MoT' is not defined"
     ]
    }
   ],
   "source": [
    "a = MoT('Standard 25to',50,25,13600,2500,2480)\n",
    "b = MoT('MEGA',70,25,13620,2480,3000)\n",
    "c = MoT('PICKUP 3.5t',60,3.5,6400,2500,2500)"
   ]
  },
  {
   "cell_type": "code",
   "execution_count": 12,
   "metadata": {},
   "outputs": [],
   "source": [
    "# Transport Order Class\n",
    "class Order():\n",
    "    def __init__(self,order_num,origin,destination,weight,length,volume):\n",
    "        self.order_num = order_num\n",
    "        self.origin = origin\n",
    "        self.destination = destination\n",
    "        self.weight = weight\n",
    "        self.length = length\n",
    "        self.volume = volume\n",
    "   \n",
    "    "
   ]
  },
  {
   "cell_type": "code",
   "execution_count": 13,
   "metadata": {},
   "outputs": [
    {
     "ename": "SyntaxError",
     "evalue": "unexpected EOF while parsing (<ipython-input-13-94cb91355259>, line 3)",
     "output_type": "error",
     "traceback": [
      "\u001b[1;36m  File \u001b[1;32m\"<ipython-input-13-94cb91355259>\"\u001b[1;36m, line \u001b[1;32m3\u001b[0m\n\u001b[1;33m    #\u001b[0m\n\u001b[1;37m     ^\u001b[0m\n\u001b[1;31mSyntaxError\u001b[0m\u001b[1;31m:\u001b[0m unexpected EOF while parsing\n"
     ]
    }
   ],
   "source": [
    "class Tour():\n",
    "    #add stop\n",
    "    #"
   ]
  },
  {
   "cell_type": "code",
   "execution_count": 74,
   "metadata": {},
   "outputs": [],
   "source": [
    "TOs = pd.read_csv(\"./Data/TransportOrders.csv\")"
   ]
  },
  {
   "cell_type": "code",
   "execution_count": 75,
   "metadata": {},
   "outputs": [],
   "source": [
    "TOs['Weight'] = pd.to_numeric(TOs['Weight'].str.rstrip(' kg').str.replace(',',''))\n",
    "TOs['Loading Meters'] = pd.to_numeric(TOs['Loading Meters'].str.split(expand=True)[0])\n",
    "TOs['Volume'] = pd.to_numeric(TOs['Volume'].str.split(expand=True)[0])"
   ]
  },
  {
   "cell_type": "code",
   "execution_count": 76,
   "metadata": {},
   "outputs": [],
   "source": [
    "TO_list = []\n",
    "for index, row in TOs.iterrows():\n",
    "    TO_list.append(Order(row['Transport Order'], \n",
    "                         row['Origin Index'], \n",
    "                         row['Destination Index'], \n",
    "                         row['Weight'], \n",
    "                         row['Loading Meters'], \n",
    "                         row['Volume'])\n",
    "                  )\n",
    "    \n",
    "    "
   ]
  },
  {
   "cell_type": "code",
   "execution_count": 77,
   "metadata": {},
   "outputs": [],
   "source": [
    "data = {}\n",
    "#Define Distance Matrix\n",
    "data['distance_matrix'] = [\n",
    "    [0,170,210,2219,1444],\n",
    "    [170,0,243,2253,1369],\n",
    "    [210,243,0,2042,1267],\n",
    "    [2219,2253,2042,0,1127],\n",
    "    [1444,1369,1267,1127,0]\n",
    "]\n",
    "\n",
    "data['pickups_deliveries'] = []\n",
    "for i in TO_list:\n",
    "    data['pickups_deliveries'].append([i.origin,i.destination])\n",
    "\n",
    "data['num_vehicles'] = 50\n",
    "data['depot']=0\n"
   ]
  },
  {
   "cell_type": "code",
   "execution_count": 78,
   "metadata": {},
   "outputs": [],
   "source": [
    "from ortools.constraint_solver import routing_enums_pb2\n",
    "from ortools.constraint_solver import pywrapcp"
   ]
  },
  {
   "cell_type": "markdown",
   "metadata": {},
   "source": [
    "# Model"
   ]
  },
  {
   "cell_type": "code",
   "execution_count": 79,
   "metadata": {},
   "outputs": [],
   "source": [
    "def print_solution(data, manager, routing, solution):\n",
    "    \"\"\"Prints solution on console.\"\"\"\n",
    "    total_distance = 0\n",
    "    for vehicle_id in range(data['num_vehicles']):\n",
    "        index = routing.Start(vehicle_id)\n",
    "        plan_output = 'Route for vehicle {}:\\n'.format(vehicle_id)\n",
    "        route_distance = 0\n",
    "        while not routing.IsEnd(index):\n",
    "            plan_output += ' {} -> '.format(manager.IndexToNode(index))\n",
    "            previous_index = index\n",
    "            index = solution.Value(routing.NextVar(index))\n",
    "            route_distance += routing.GetArcCostForVehicle(\n",
    "                previous_index, index, vehicle_id)\n",
    "        plan_output += '{}\\n'.format(manager.IndexToNode(index))\n",
    "        plan_output += 'Distance of the route: {}m\\n'.format(route_distance)\n",
    "        print(plan_output)\n",
    "        total_distance += route_distance\n",
    "    print('Total Distance of all routes: {}m'.format(total_distance))\n",
    "\n"
   ]
  },
  {
   "cell_type": "code",
   "execution_count": 80,
   "metadata": {},
   "outputs": [],
   "source": [
    "manager = pywrapcp.RoutingIndexManager(len(data['distance_matrix']),\n",
    "                                           data['num_vehicles'], data['depot'])\n"
   ]
  },
  {
   "cell_type": "code",
   "execution_count": 81,
   "metadata": {},
   "outputs": [],
   "source": [
    "routing = pywrapcp.RoutingModel(manager)"
   ]
  },
  {
   "cell_type": "code",
   "execution_count": 82,
   "metadata": {},
   "outputs": [],
   "source": [
    "def distance_callback(from_index, to_index):\n",
    "        \"\"\"Returns the manhattan distance between the two nodes.\"\"\"\n",
    "        # Convert from routing variable Index to distance matrix NodeIndex.\n",
    "        from_node = manager.IndexToNode(from_index)\n",
    "        to_node = manager.IndexToNode(to_index)\n",
    "        return data['distance_matrix'][from_node][to_node]\n",
    "\n",
    "transit_callback_index = routing.RegisterTransitCallback(distance_callback)\n",
    "routing.SetArcCostEvaluatorOfAllVehicles(transit_callback_index)\n"
   ]
  },
  {
   "cell_type": "code",
   "execution_count": 83,
   "metadata": {},
   "outputs": [],
   "source": [
    "dimension_name = 'Distance'\n",
    "routing.AddDimension(\n",
    "        transit_callback_index,\n",
    "        0,  # no slack\n",
    "        3000,  # vehicle maximum travel distance\n",
    "        True,  # start cumul to zero\n",
    "        dimension_name)\n",
    "distance_dimension = routing.GetDimensionOrDie(dimension_name)\n",
    "distance_dimension.SetGlobalSpanCostCoefficient(100)"
   ]
  },
  {
   "cell_type": "code",
   "execution_count": 84,
   "metadata": {},
   "outputs": [],
   "source": [
    "for request in data['pickups_deliveries']:\n",
    "        pickup_index = manager.NodeToIndex(request[0])\n",
    "        delivery_index = manager.NodeToIndex(request[1])\n",
    "        routing.AddPickupAndDelivery(pickup_index, delivery_index)\n",
    "        routing.solver().Add(\n",
    "            routing.VehicleVar(pickup_index) == routing.VehicleVar(\n",
    "                delivery_index))\n",
    "        routing.solver().Add(\n",
    "            distance_dimension.CumulVar(pickup_index) <=\n",
    "            distance_dimension.CumulVar(delivery_index))\n"
   ]
  },
  {
   "cell_type": "code",
   "execution_count": 85,
   "metadata": {},
   "outputs": [],
   "source": [
    "search_parameters = pywrapcp.DefaultRoutingSearchParameters()\n",
    "search_parameters.first_solution_strategy = (\n",
    "    routing_enums_pb2.FirstSolutionStrategy.PARALLEL_CHEAPEST_INSERTION)\n"
   ]
  },
  {
   "cell_type": "code",
   "execution_count": 86,
   "metadata": {},
   "outputs": [],
   "source": [
    "solution = routing.SolveWithParameters(search_parameters)\n"
   ]
  },
  {
   "cell_type": "code",
   "execution_count": 87,
   "metadata": {},
   "outputs": [],
   "source": [
    "if solution:\n",
    "        print_solution(data, manager, routing, solution)"
   ]
  },
  {
   "cell_type": "code",
   "execution_count": null,
   "metadata": {},
   "outputs": [],
   "source": []
  }
 ],
 "metadata": {
  "kernelspec": {
   "display_name": "MilkRun",
   "language": "python",
   "name": "milkrun"
  },
  "language_info": {
   "codemirror_mode": {
    "name": "ipython",
    "version": 3
   },
   "file_extension": ".py",
   "mimetype": "text/x-python",
   "name": "python",
   "nbconvert_exporter": "python",
   "pygments_lexer": "ipython3",
   "version": "3.7.9"
  }
 },
 "nbformat": 4,
 "nbformat_minor": 4
}
